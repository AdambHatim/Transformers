{
 "cells": [
  {
   "cell_type": "markdown",
   "metadata": {
    "id": "G4QJ7_Hp0bbU"
   },
   "source": [
    "# Preparing the Dataset"
   ]
  },
  {
   "cell_type": "code",
   "execution_count": null,
   "metadata": {
    "colab": {
     "base_uri": "https://localhost:8080/",
     "height": 1000
    },
    "id": "PR4FaFGwAQcq",
    "outputId": "97bcfa1b-7503-47eb-e87d-6f055d0b31c1"
   },
   "outputs": [],
   "source": [
    "pip install datasets==2.14.5\n"
   ]
  },
  {
   "cell_type": "code",
   "execution_count": null,
   "metadata": {
    "colab": {
     "base_uri": "https://localhost:8080/",
     "height": 663,
     "referenced_widgets": [
      "5d8ab54d0c7d44f8926c29dc1c68f1ae",
      "401d5a71aff14d3bb6a8ee51d9033604",
      "387a6479b528480aa7a2f7b33261bcc9",
      "7be57c3056734405ac2758fa65ab3c8c",
      "723640e73f504fb4a28fcae746e8fc40",
      "fdc748149ed74117a8e226979468951e",
      "32648ca0c03d40ad81f5f724cdcff93e",
      "9f3972e613774ec88fa712d6a70aa8da",
      "d2ee0ee3b4ae4be98c81628298b3d0b1",
      "60ef62f4ffae4785a1994a4a3e531dc1",
      "17a4efcac061466784ecf32eeb12fbf3",
      "54377851d61540078c2e1d6b153b88ce",
      "20f24ed026d5482a8262d76c2075ddbd",
      "3a7c919c0dd748cfaec65f54c4baf630",
      "364d3d8166c2471eb705d1662e6faecf",
      "515537ea41de40e2afad1a560e447f9f",
      "2ec4cdd342bc430886564eac5fbb34b9",
      "c9baa402afd945c0ac9b2b01b98283ff",
      "daaf07cc9f74453b96e93bab2d92af9e",
      "ffaafb87300e4df69a5c2391e7447825",
      "666ca0f27ee54e9b8480c295c6b653ac",
      "9945d762f2cd437abce09a892e9c82d5",
      "be88976798c74707a068c7d32dd1f9e5",
      "2cfaa901c5e346b58e9cd206497ee09a",
      "5ba951cf81124cffb4e162d0e5cd91e4",
      "0051d119d81e4f3eb8ae89dab3436bfb",
      "3ba5a93fcbff46ebb792e80bef2499b1",
      "66c602f0dd7c4cc99e56050a0b78ddb9",
      "9e59a9bf1901448b92d99349ebfe8631",
      "2a4aa8a920a448e48773384df472acc2",
      "818721f1f441466ba8fc2febbd92ba4c",
      "6945a63ee5c340518ebfcf05c084e14d",
      "8dcee34d92304fd399d2023ab8d10b12",
      "678e2b552c734b5580a3053352a1d874",
      "ae26dafc83114f73bdf0ccfa58a73dde",
      "80276856270f49b089495f3ef65adeec",
      "eddb09fdd1a6448ba1651666ae16eb56",
      "8d930b26fe404fdcb97e98accc863136",
      "58f960971f50457c920e86ab2f68f785",
      "933abfde32c544529cec53dac108c860",
      "e8d68ae3bc424e459ba8d1b3df3ab5ac",
      "b9b8b6b6d68a4c5c92514fa93e2f409b",
      "14319b96123147d197b2cf69c5ece49d",
      "f00adc35dde149b1aea3250c87e38b02",
      "e486f7fd694b48029d01c104f67b9b62",
      "a9ea2cf622b04fc49b1e4a34f24da458",
      "6cdf299682d24acd8311a17ca06d3df5",
      "a65e9a77aa3e445393d74d3754224a9e",
      "aa42ce014c134e368574ab436f2315c5",
      "4989546a2bd049b49b8a01dd8598f0ef",
      "91a0d385403a4ba6a3ed5696fbbac15c",
      "df88b1d86a20479e87d5ff214cb8b8f7",
      "dc6364159f864c67b8329efc0e72b3b2",
      "fe498750e4744399a4e86771661a994e",
      "375bd91e529741729eb02c5b31f11f83",
      "25804cf5e5d2488b8548b8f1fcb9167a",
      "d6c19337b02c4aaeb13fcf7ca41237ff",
      "c076de15d9b24f999b03a776445a81a5",
      "562191784d654c84a9dbd116d09e3332",
      "79dc2692bcad4631a2fb810a5ee4bbb9",
      "0522d9e0bd674ea7a72cafa4b84e1d64",
      "d39fa479caa44595b97c4d9a71cd972b",
      "6e301fdfeb694b25bab375fd1f4f0e1c",
      "c0da29397707494989e3ecb440ea7a1a",
      "c126d1835d81481d9ab6639e791e9b03",
      "e68e62337f5d4ceda416f884f236d6e6"
     ]
    },
    "id": "mvoFXsVO2wX-",
    "outputId": "53517f36-c0c2-4553-e735-2f88e35a922d"
   },
   "outputs": [],
   "source": [
    "from datasets import load_dataset\n",
    "\n",
    "# Load the 2017 IWSLT dataset, English–French\n",
    "dataset = load_dataset(\"iwslt2017\", \"iwslt2017-en-fr\")\n",
    "\n",
    "print(dataset)\n",
    "print(\"Train size:\", len(dataset[\"train\"]))\n",
    "print(\"Validation size:\", len(dataset[\"validation\"]))\n",
    "print(\"Test size:\", len(dataset[\"test\"]))\n",
    "\n",
    "# Access sentences\n",
    "print(dataset[\"train\"][0][\"translation\"][\"en\"])\n",
    "print(dataset[\"train\"][0][\"translation\"][\"fr\"])\n"
   ]
  },
  {
   "cell_type": "code",
   "execution_count": null,
   "metadata": {
    "colab": {
     "base_uri": "https://localhost:8080/"
    },
    "id": "5F7-1llBBrP6",
    "outputId": "3f7cdc54-4222-4c4a-aa83-2e4f5b12af22"
   },
   "outputs": [],
   "source": [
    "from google.colab import drive\n",
    "drive.mount('/content/drive')\n"
   ]
  },
  {
   "cell_type": "code",
   "execution_count": null,
   "metadata": {
    "colab": {
     "base_uri": "https://localhost:8080/",
     "height": 113,
     "referenced_widgets": [
      "a27cccc83e954d3c9230b9da018b67c7",
      "2a8ec6f4d3954c67a064af529e497e0c",
      "53c10bf601a6427e965f55c625545263",
      "b20c7c43e7404555a544d9223bdc9a2b",
      "917d63bf9c914c11add3b9f1cddbb7b2",
      "f98930aa4eb044b6bd107d75f067504f",
      "1a1b06ca7bec435a8a1925b8ece97873",
      "b1b17d8fa51f4f7994b7695a09d96579",
      "ab8f0178493f4af1927dbf5d560d7600",
      "0f1ab125df604754a3637644f8feec2d",
      "2e6a7807b4c34bbe950e525ec04f56a7",
      "9e2b2ca9c080467a9fead2eafa9eaf65",
      "9c9d21b7bf164677ae236a76d4a4665f",
      "f5d80867e15f48cb85cdded054ece3cb",
      "3c05d52812bf4528a3dada0e2fbaf662",
      "50a182d1c13649adaecf6a13f26a3591",
      "6d99ca1b38df442da10c481b06c0fca7",
      "be754f406d5b4134b1aae2d66ec3e390",
      "75997f5efa834a9c952ebde1c3978b79",
      "1ecfc454ee41404cb7a74b95ad1090ab",
      "65d3178bb7b74e8fac0e5cf174ed4d1b",
      "1a72ab81216e460ab1d49175e2a7c5c8",
      "90fe88b0af7e416286e7284e3edf3914",
      "7e84ce31f98446d383276cc994f19ff2",
      "e238908e7f7e44cbbdcf5fd114f6cd30",
      "16b3f19fad4843d9aa07e436f9c1af9e",
      "77061917d17741f7aa02615272501d1e",
      "9a55a6a047f941c89d102ec704295eb7",
      "6cef2fddfb67427786e19354083fd2a4",
      "ca14115a5a8b449f9fecbecf6ed6dc20",
      "0d21cd99b26044d195202b77bcc73364",
      "77b10ab2ddb348be841cd89046babfdb",
      "4b246b907c4f400ea56d91b8df2b3f7d"
     ]
    },
    "id": "fCdasM68CBkC",
    "outputId": "c9a8ce8b-dae5-4c90-94db-060fd18bbe05"
   },
   "outputs": [],
   "source": [
    "# saving the dataset so I don't need to redownload it every time\n",
    "dataset.save_to_disk(\"/content/drive/MyDrive/datasets/iwslt2017_en_fr\")"
   ]
  },
  {
   "cell_type": "markdown",
   "metadata": {
    "id": "rvroA9SeDs7d"
   },
   "source": [
    "# Loading the Dataset"
   ]
  },
  {
   "cell_type": "code",
   "execution_count": null,
   "metadata": {
    "colab": {
     "base_uri": "https://localhost:8080/"
    },
    "id": "kXGAZ2oKCPeZ",
    "outputId": "18460c55-8c93-4a8b-8ce2-b9e4f7dbbdb1"
   },
   "outputs": [],
   "source": [
    "from datasets import load_from_disk\n",
    "\n",
    "dataset = load_from_disk(\"/content/drive/MyDrive/datasets/iwslt2017_en_fr\")\n",
    "print(dataset)\n"
   ]
  },
  {
   "cell_type": "code",
   "execution_count": null,
   "metadata": {
    "id": "auh3bq-l0ily"
   },
   "outputs": [],
   "source": [
    "train_en = [sentence['translation']['en'] for sentence in dataset['train']]\n",
    "train_fr = [sentence['translation']['fr'] for sentence in dataset['train']]\n",
    "\n",
    "validation_en = [sentence['translation']['en'] for sentence in dataset['validation']]\n",
    "validation_fr = [sentence['translation']['fr'] for sentence in dataset['validation']]\n",
    "\n",
    "test_en = [sentence['translation']['en'] for sentence in dataset['test']]\n",
    "test_fr = [sentence['translation']['fr'] for sentence in dataset['test']]"
   ]
  },
  {
   "cell_type": "code",
   "execution_count": null,
   "metadata": {
    "colab": {
     "base_uri": "https://localhost:8080/"
    },
    "id": "X25LpXeI1nu4",
    "outputId": "7b25a52b-18ba-4ed1-f498-8706f9a1eb7b"
   },
   "outputs": [],
   "source": [
    "import numpy as np\n",
    "first = np.random.randint(0, 200000)\n",
    "second = np.random.randint(0, 200000)\n",
    "third = np.random.randint(0, 200000)\n",
    "\n",
    "print(train_en[first])\n",
    "print(train_fr[first])\n",
    "\n",
    "print(\"\")\n",
    "\n",
    "print(train_en[second])\n",
    "print(train_fr[second])\n",
    "\n",
    "print(\"\")\n",
    "\n",
    "print(train_en[third])\n",
    "print(train_fr[third])"
   ]
  },
  {
   "cell_type": "markdown",
   "metadata": {
    "id": "cswr6SUID3cO"
   },
   "source": [
    "# Implementing the Tokenizer"
   ]
  },
  {
   "cell_type": "code",
   "execution_count": null,
   "metadata": {
    "id": "0bu1HtU3JyMD"
   },
   "outputs": [],
   "source": []
  }
 ],
 "metadata": {
  "colab": {
   "provenance": [],
   "toc_visible": true
  },
  "kernelspec": {
   "display_name": "Python 3",
   "name": "python3"
  },
  "language_info": {
   "name": "python"
  }
 },
 "nbformat": 4,
 "nbformat_minor": 0
}
